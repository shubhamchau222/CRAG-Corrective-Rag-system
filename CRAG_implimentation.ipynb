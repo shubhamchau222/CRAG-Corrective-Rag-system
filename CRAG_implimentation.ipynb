{
  "nbformat": 4,
  "nbformat_minor": 0,
  "metadata": {
    "colab": {
      "provenance": []
    },
    "kernelspec": {
      "name": "python3",
      "display_name": "Python 3"
    },
    "language_info": {
      "name": "python"
    }
  },
  "cells": [
    {
      "cell_type": "markdown",
      "source": [
        "# install requirements"
      ],
      "metadata": {
        "id": "CtRlBK6Owj5E"
      }
    },
    {
      "cell_type": "code",
      "execution_count": 7,
      "metadata": {
        "colab": {
          "base_uri": "https://localhost:8080/"
        },
        "id": "G8m56PO8v9Jr",
        "outputId": "6a1ead23-a7c0-4536-94e6-04aecf78b214"
      },
      "outputs": [
        {
          "output_type": "stream",
          "name": "stdout",
          "text": [
            "\u001b[?25l   \u001b[90m━━━━━━━━━━━━━━━━━━━━━━━━━━━━━━━━━━━━━━━━\u001b[0m \u001b[32m0.0/50.9 kB\u001b[0m \u001b[31m?\u001b[0m eta \u001b[36m-:--:--\u001b[0m\r\u001b[2K   \u001b[90m━━━━━━━━━━━━━━━━━━━━━━━━━━━━━━━━━━━━━━━━\u001b[0m \u001b[32m50.9/50.9 kB\u001b[0m \u001b[31m3.4 MB/s\u001b[0m eta \u001b[36m0:00:00\u001b[0m\n",
            "\u001b[?25h\u001b[?25l   \u001b[90m━━━━━━━━━━━━━━━━━━━━━━━━━━━━━━━━━━━━━━━━\u001b[0m \u001b[32m0.0/454.3 kB\u001b[0m \u001b[31m?\u001b[0m eta \u001b[36m-:--:--\u001b[0m\r\u001b[2K   \u001b[90m━━━━━━━━━━━━━━━━━━━━━━━━━━━━━━━━━━━━━━━━\u001b[0m \u001b[32m454.3/454.3 kB\u001b[0m \u001b[31m12.5 MB/s\u001b[0m eta \u001b[36m0:00:00\u001b[0m\n",
            "\u001b[?25h"
          ]
        }
      ],
      "source": [
        "!pip install langchain langgraph tavily-python sentence-transformers langchain-groq langchain-together -q"
      ]
    },
    {
      "cell_type": "code",
      "source": [
        "!pip install langchain_community chromadb -q"
      ],
      "metadata": {
        "colab": {
          "base_uri": "https://localhost:8080/"
        },
        "id": "VKXpB-0fxGn3",
        "outputId": "b1ec2a40-452d-4afa-8ad2-d24128421250"
      },
      "execution_count": 51,
      "outputs": [
        {
          "output_type": "stream",
          "name": "stdout",
          "text": [
            "\u001b[?25l     \u001b[90m━━━━━━━━━━━━━━━━━━━━━━━━━━━━━━━━━━━━━━━━\u001b[0m \u001b[32m0.0/67.3 kB\u001b[0m \u001b[31m?\u001b[0m eta \u001b[36m-:--:--\u001b[0m\r\u001b[2K     \u001b[90m━━━━━━━━━━━━━━━━━━━━━━━━━━━━━━━━━━━━━━━━\u001b[0m \u001b[32m67.3/67.3 kB\u001b[0m \u001b[31m3.6 MB/s\u001b[0m eta \u001b[36m0:00:00\u001b[0m\n",
            "\u001b[?25h  Installing build dependencies ... \u001b[?25l\u001b[?25hdone\n",
            "  Getting requirements to build wheel ... \u001b[?25l\u001b[?25hdone\n",
            "  Preparing metadata (pyproject.toml) ... \u001b[?25l\u001b[?25hdone\n",
            "\u001b[2K   \u001b[90m━━━━━━━━━━━━━━━━━━━━━━━━━━━━━━━━━━━━━━━━\u001b[0m \u001b[32m602.1/602.1 kB\u001b[0m \u001b[31m16.3 MB/s\u001b[0m eta \u001b[36m0:00:00\u001b[0m\n",
            "\u001b[2K   \u001b[90m━━━━━━━━━━━━━━━━━━━━━━━━━━━━━━━━━━━━━━━━\u001b[0m \u001b[32m2.4/2.4 MB\u001b[0m \u001b[31m44.6 MB/s\u001b[0m eta \u001b[36m0:00:00\u001b[0m\n",
            "\u001b[2K   \u001b[90m━━━━━━━━━━━━━━━━━━━━━━━━━━━━━━━━━━━━━━━━\u001b[0m \u001b[32m278.6/278.6 kB\u001b[0m \u001b[31m18.4 MB/s\u001b[0m eta \u001b[36m0:00:00\u001b[0m\n",
            "\u001b[2K   \u001b[90m━━━━━━━━━━━━━━━━━━━━━━━━━━━━━━━━━━━━━━━━\u001b[0m \u001b[32m94.8/94.8 kB\u001b[0m \u001b[31m7.1 MB/s\u001b[0m eta \u001b[36m0:00:00\u001b[0m\n",
            "\u001b[2K   \u001b[90m━━━━━━━━━━━━━━━━━━━━━━━━━━━━━━━━━━━━━━━━\u001b[0m \u001b[32m1.9/1.9 MB\u001b[0m \u001b[31m49.8 MB/s\u001b[0m eta \u001b[36m0:00:00\u001b[0m\n",
            "\u001b[2K   \u001b[90m━━━━━━━━━━━━━━━━━━━━━━━━━━━━━━━━━━━━━━━━\u001b[0m \u001b[32m93.2/93.2 kB\u001b[0m \u001b[31m5.9 MB/s\u001b[0m eta \u001b[36m0:00:00\u001b[0m\n",
            "\u001b[2K   \u001b[90m━━━━━━━━━━━━━━━━━━━━━━━━━━━━━━━━━━━━━━━━\u001b[0m \u001b[32m13.3/13.3 MB\u001b[0m \u001b[31m36.7 MB/s\u001b[0m eta \u001b[36m0:00:00\u001b[0m\n",
            "\u001b[2K   \u001b[90m━━━━━━━━━━━━━━━━━━━━━━━━━━━━━━━━━━━━━━━━\u001b[0m \u001b[32m55.8/55.8 kB\u001b[0m \u001b[31m3.7 MB/s\u001b[0m eta \u001b[36m0:00:00\u001b[0m\n",
            "\u001b[2K   \u001b[90m━━━━━━━━━━━━━━━━━━━━━━━━━━━━━━━━━━━━━━━━\u001b[0m \u001b[32m54.8/54.8 kB\u001b[0m \u001b[31m3.9 MB/s\u001b[0m eta \u001b[36m0:00:00\u001b[0m\n",
            "\u001b[2K   \u001b[90m━━━━━━━━━━━━━━━━━━━━━━━━━━━━━━━━━━━━━━━━\u001b[0m \u001b[32m62.3/62.3 kB\u001b[0m \u001b[31m4.1 MB/s\u001b[0m eta \u001b[36m0:00:00\u001b[0m\n",
            "\u001b[2K   \u001b[90m━━━━━━━━━━━━━━━━━━━━━━━━━━━━━━━━━━━━━━━━\u001b[0m \u001b[32m442.1/442.1 kB\u001b[0m \u001b[31m23.7 MB/s\u001b[0m eta \u001b[36m0:00:00\u001b[0m\n",
            "\u001b[2K   \u001b[90m━━━━━━━━━━━━━━━━━━━━━━━━━━━━━━━━━━━━━━━━\u001b[0m \u001b[32m319.7/319.7 kB\u001b[0m \u001b[31m19.4 MB/s\u001b[0m eta \u001b[36m0:00:00\u001b[0m\n",
            "\u001b[2K   \u001b[90m━━━━━━━━━━━━━━━━━━━━━━━━━━━━━━━━━━━━━━━━\u001b[0m \u001b[32m73.2/73.2 kB\u001b[0m \u001b[31m5.1 MB/s\u001b[0m eta \u001b[36m0:00:00\u001b[0m\n",
            "\u001b[2K   \u001b[90m━━━━━━━━━━━━━━━━━━━━━━━━━━━━━━━━━━━━━━━━\u001b[0m \u001b[32m3.8/3.8 MB\u001b[0m \u001b[31m49.0 MB/s\u001b[0m eta \u001b[36m0:00:00\u001b[0m\n",
            "\u001b[2K   \u001b[90m━━━━━━━━━━━━━━━━━━━━━━━━━━━━━━━━━━━━━━━━\u001b[0m \u001b[32m443.8/443.8 kB\u001b[0m \u001b[31m24.9 MB/s\u001b[0m eta \u001b[36m0:00:00\u001b[0m\n",
            "\u001b[2K   \u001b[90m━━━━━━━━━━━━━━━━━━━━━━━━━━━━━━━━━━━━━━━━\u001b[0m \u001b[32m46.0/46.0 kB\u001b[0m \u001b[31m3.0 MB/s\u001b[0m eta \u001b[36m0:00:00\u001b[0m\n",
            "\u001b[2K   \u001b[90m━━━━━━━━━━━━━━━━━━━━━━━━━━━━━━━━━━━━━━━━\u001b[0m \u001b[32m86.8/86.8 kB\u001b[0m \u001b[31m7.0 MB/s\u001b[0m eta \u001b[36m0:00:00\u001b[0m\n",
            "\u001b[?25h  Building wheel for pypika (pyproject.toml) ... \u001b[?25l\u001b[?25hdone\n",
            "\u001b[31mERROR: pip's dependency resolver does not currently take into account all the packages that are installed. This behaviour is the source of the following dependency conflicts.\n",
            "tensorflow 2.17.1 requires protobuf!=4.21.0,!=4.21.1,!=4.21.2,!=4.21.3,!=4.21.4,!=4.21.5,<5.0.0dev,>=3.20.3, but you have protobuf 5.29.2 which is incompatible.\n",
            "tensorflow-metadata 1.13.1 requires protobuf<5,>=3.20.3, but you have protobuf 5.29.2 which is incompatible.\u001b[0m\u001b[31m\n",
            "\u001b[0m"
          ]
        }
      ]
    },
    {
      "cell_type": "markdown",
      "source": [
        "# Import Libraries"
      ],
      "metadata": {
        "id": "uqELLxu1Hr0N"
      }
    },
    {
      "cell_type": "code",
      "source": [
        "import os\n",
        "import json\n",
        "import operator\n",
        "from typing import Annotated, Sequence, TypedDict\n",
        "\n",
        "from langchain import hub\n",
        "from langchain_core.output_parsers import JsonOutputParser\n",
        "from langchain.prompts import PromptTemplate, ChatPromptTemplate\n",
        "from langchain.schema import Document\n",
        "from langchain_community.tools.tavily_search import TavilySearchResults\n",
        "from langchain_core.output_parsers import StrOutputParser\n",
        "from langchain_core.runnables import RunnablePassthrough\n",
        "from langchain_openai.chat_models import ChatOpenAI\n",
        "\n",
        "from langchain.text_splitter import RecursiveCharacterTextSplitter\n",
        "from langchain_community.document_loaders import WebBaseLoader\n",
        "from langchain_community.vectorstores import Chroma\n",
        "from langchain_community.embeddings.sentence_transformer import SentenceTransformerEmbeddings\n",
        "from langchain_groq import ChatGroq\n",
        "from langchain_core.pydantic_v1 import BaseModel, Field\n",
        "from typing import List\n",
        "from typing_extensions import TypedDict\n",
        "from langchain.schema import Document\n",
        "from langgraph.graph import END, StateGraph, START"
      ],
      "metadata": {
        "id": "xL-nh-3bHuux"
      },
      "execution_count": 156,
      "outputs": []
    },
    {
      "cell_type": "markdown",
      "source": [
        "# Set the environement & Variables"
      ],
      "metadata": {
        "id": "G27iB6ehyoZZ"
      }
    },
    {
      "cell_type": "code",
      "source": [
        "from google.colab import userdata\n",
        "os.environ[\"GROQ_API_KEY\"] = userdata.get('GROQ_API_KEY') #helps to access llm free of cost\n",
        "os.environ[\"TAVILY_API_KEY\"] = userdata.get('TAVILY_API_KEY')\n",
        "os.environ[\"TOGETHER_API_KEY\"] = userdata.get('TOGETHER_API_KEY') #helps to access llm free of cost"
      ],
      "metadata": {
        "id": "KPfCflwtyuNw"
      },
      "execution_count": 44,
      "outputs": []
    },
    {
      "cell_type": "code",
      "source": [
        "# model testing\n",
        "from langchain_groq import ChatGroq\n",
        "chat = ChatGroq(temperature=0, model_name=\"mixtral-8x7b-32768\")\n",
        "system = \"You are a helpful assistant.\"\n",
        "human = \"{text}\"\n",
        "prompt = ChatPromptTemplate.from_messages([(\"system\", system), (\"human\", human)])\n",
        "\n",
        "chain = prompt | chat\n",
        "chain.invoke({\"text\": \"Explain the importance of low latency LLMs.\"})"
      ],
      "metadata": {
        "colab": {
          "base_uri": "https://localhost:8080/"
        },
        "id": "xBAmlM3I32MP",
        "outputId": "44b90261-232f-47c1-e839-315c84737a0d"
      },
      "execution_count": 39,
      "outputs": [
        {
          "output_type": "execute_result",
          "data": {
            "text/plain": [
              "AIMessage(content=\"Low latency Large Language Models (LLMs) are important for a variety of reasons, particularly in applications that require real-time or near real-time interactions. Here are some of the key reasons why low latency is important in LLMs:\\n\\n1. Improved user experience: In applications such as chatbots, search engines, and virtual assistants, users expect quick and responsive interactions. Low latency LLMs can provide instantaneous responses, which can significantly improve the user experience and increase user satisfaction.\\n2. Real-time decision making: In some applications, such as autonomous vehicles, real-time decision making is critical for safety and efficiency. Low latency LLMs can provide quick and accurate responses, enabling real-time decision making and improving overall system performance.\\n3. Reduced computational cost: Low latency LLMs can reduce the computational cost of running language models, as they require fewer computational resources to provide quick responses. This can lead to cost savings for businesses and organizations that rely on LLMs for their operations.\\n4. Improved model accuracy: Low latency LLMs can improve the accuracy of language models by reducing the time it takes to process and analyze input data. This can lead to more accurate and relevant responses, improving the overall performance of the LLM.\\n5. Enhanced competitiveness: In today's fast-paced digital world, businesses and organizations that can provide quick and responsive services have a competitive advantage. Low latency LLMs can enable businesses and organizations to provide real-time or near real-time interactions, giving them an edge over their competitors.\\n\\nOverall, low latency LLMs are critical for applications that require real-time or near real-time interactions, as they can improve user experience, enable real-time decision making, reduce computational cost, improve model accuracy, and enhance competitiveness.\", additional_kwargs={}, response_metadata={'token_usage': {'completion_tokens': 393, 'prompt_tokens': 25, 'total_tokens': 418, 'completion_time': 0.626988951, 'prompt_time': 0.002533019, 'queue_time': 0.028696488, 'total_time': 0.62952197}, 'model_name': 'mixtral-8x7b-32768', 'system_fingerprint': 'fp_c5f20b5bb1', 'finish_reason': 'stop', 'logprobs': None}, id='run-b02a2443-d3a1-4461-94b3-ad0c7f8c8d74-0', usage_metadata={'input_tokens': 25, 'output_tokens': 393, 'total_tokens': 418})"
            ]
          },
          "metadata": {},
          "execution_count": 39
        }
      ]
    },
    {
      "cell_type": "code",
      "source": [
        "# Querying code and language models with Together AI\n",
        "\n",
        "from langchain_together import Together\n",
        "\n",
        "llm = Together(\n",
        "    model=\"meta-llama/Llama-3-70b-chat-hf\",\n",
        "    # together_api_key=\"...\"\n",
        ")\n",
        "\n",
        "print(llm.invoke(\"Give me some reasons to learn AI\"))"
      ],
      "metadata": {
        "colab": {
          "base_uri": "https://localhost:8080/"
        },
        "id": "KjbRKU3p4mZA",
        "outputId": "b247f6c8-75aa-48ae-f14c-4b32f4c9bda9"
      },
      "execution_count": 48,
      "outputs": [
        {
          "output_type": "stream",
          "name": "stderr",
          "text": [
            "/usr/local/lib/python3.10/dist-packages/langchain_together/llms.py:89: UserWarning: The completions endpoint, has 'max_tokens' as required argument. The default value is being set to 200 Consider setting this value, when initializing LLM\n",
            "  warnings.warn(\n"
          ]
        },
        {
          "output_type": "stream",
          "name": "stdout",
          "text": [
            " and ML\n",
            "Here are some compelling reasons to learn AI and ML:\n",
            "\n",
            "**1. High Demand**: AI and ML are in high demand across industries, a trend that's expected to continue for the foreseeable future. As a result, professionals with AI and ML skills are highly sought after and well-compensated.\n",
            "\n",
            "**2. Career Advancement**: Knowledge of AI and ML can open up new career opportunities and accelerate professional growth. It's a valuable skillset that can help you move up the career ladder or transition into a new field.\n",
            "\n",
            "**3. Solving Real-World Problems**: AI and ML have the potential to solve some of humanity's most pressing problems, such as climate change, healthcare, and education. By learning AI and ML, you can contribute to creating positive impact in the world.\n",
            "\n",
            "**4. Improved Decision Making**: AI and ML can help organizations make better decisions by analyzing large datasets and identifying patterns. By learning AI and ML, you can develop the skills to make data-driven decisions\n"
          ]
        }
      ]
    },
    {
      "cell_type": "code",
      "source": [
        "from tavily import TavilyClient\n",
        "\n",
        "# Step 1. Instantiating your TavilyClient\n",
        "tavily_client = TavilyClient(api_key=userdata.get('TAVILY_API_KEY'))\n",
        "\n",
        "# Step 2. Executing a simple search query\n",
        "response = tavily_client.search(\"Who is Leo Messi?\")\n",
        "\n",
        "# Step 3. That's it! You've done a Tavily Search!\n",
        "print(response)"
      ],
      "metadata": {
        "colab": {
          "base_uri": "https://localhost:8080/"
        },
        "id": "spq3N9fE65hE",
        "outputId": "23972f10-b6c1-47de-9655-ffe06c7b670d"
      },
      "execution_count": 54,
      "outputs": [
        {
          "output_type": "stream",
          "name": "stdout",
          "text": [
            "{'query': 'Who is Leo Messi?', 'follow_up_questions': None, 'answer': None, 'images': [], 'results': [{'title': 'Lionel Messi | Biography, Competitions, Wins and Medals', 'url': 'https://olympics.com/en/athletes/lionel-messi', 'content': '“The Olympic gold in 2008 is the win that I value the most because it is a tournament that you may play only once in your life and involves many athletes from different disciplines” - Lionel Messi, Spanish Esquire\\nFeatured\\nLatest News\\nOlympic Results\\nAthlete Olympic Results Content\\nYou may like Lionel MESSI\\nBiography\\nBorn in Rosario, Argentina in 1987 Lionel Messi is widely held to be one of the greatest football players of his generation — and with good reason.\\n Graduating quickly through the club’s ranks thanks to his ever-growing skill set Messi made his first senior appearance for the club at the age of 17.\\n When he eventually left the team in 2021 for French club Paris Saint-Germain the Argentine completed his time in La Liga as its top goal-scorer, with an eye-watering 474 successful shots to his name.\\n He also came close to winning the FIFA World Cup in 2014 but Argentina fell to Germany 1-0 in the final.\\n', 'score': 0.6238588, 'raw_content': None}, {'title': \"Lionel Messi | Records, Height, Ballon d'Or, Inter Miami, & Facts ...\", 'url': 'https://www.britannica.com/biography/Lionel-Messi', 'content': 'In early 2009 Messi capped off a spectacular 2008–09 season by helping FC Barcelona capture the club’s first “treble” (winning three major European club titles in one season): the team won the La Liga championship, the Copa del Rey (Spain’s major domestic cup), and the Champions League title. Messi’s play continued to rapidly improve over the years, and by 2008 he was one of the most dominant players in the world, finishing second to Manchester United’s Cristiano Ronaldo in the voting for the 2008 Ballon d’Or. At the 2014 World Cup, Messi put on a dazzling display, scoring four goals and almost single-handedly propelling an offense-deficient Argentina team through the group stage and into the knockout rounds, where Argentina then advanced to the World Cup final for the first time in 24 years. After Argentina was defeated in the Copa final—the team’s third consecutive finals loss in a major tournament—Messi said that he was quitting the national team, but his short-lived “retirement” lasted less than two months before he announced his return to the Argentine team. Messi helped Barcelona capture another treble during the 2014–15 season, leading the team with 43 goals scored over the course of the campaign, which resulted in his fifth world player of the year honour.', 'score': 0.56460327, 'raw_content': None}, {'title': 'Lionel Messi - Wikipedia', 'url': 'https://en.wikipedia.org/wiki/Lionel_Messi', 'content': 'He scored twice in the last group match, a 3–2 victory over Nigeria, his second goal coming from a free kick, as they finished first in their group.[423] Messi assisted a late goal in extra time to ensure a 1–0 win against Switzerland in the round of 16, and played in the 1–0 quarter-final win against Belgium as Argentina progressed to the semi-final of the World Cup for the first time since 1990.[424][425] Following a 0–0 draw in extra time, they eliminated the Netherlands 4–2 in a penalty shootout to reach the final, with Messi scoring his team\\'s first penalty.[426]\\nBilled as Messi versus Germany, the world\\'s best player against the best team, the final was a repeat of the 1990 final featuring Diego Maradona.[427] Within the first half-hour, Messi had started the play that led to a goal, but it was ruled offside. \"[582] Moreover, several pundits and footballing figures, including Maradona, questioned Messi\\'s leadership with Argentina at times, despite his playing ability.[583][584][585] Vickery states the perception of Messi among Argentines changed in 2019, with Messi making a conscious effort to become \"more one of the group, more Argentine\", with Vickery adding that following the World Cup victory in 2022 Messi would now be held in the same esteem by his compatriots as Maradona.[581]\\nComparisons with Cristiano Ronaldo\\nAmong his contemporary peers, Messi is most often compared and contrasted with Portuguese forward Cristiano Ronaldo, as part of an ongoing rivalry that has been compared to past sports rivalries like the Muhammad Ali–Joe Frazier rivalry in boxing, the Roger Federer–Rafael Nadal rivalry in tennis, and the Prost–Senna rivalry from Formula One motor racing.[586][587]\\nAlthough Messi has at times denied any rivalry,[588][589] they are widely believed to push one another in their aim to be the best player in the world.[160] Since 2008, Messi has won eight Ballons d\\'Or to Ronaldo\\'s five,[590] seven FIFA World\\'s Best Player awards to Ronaldo\\'s five, and six European Golden Shoes to Ronaldo\\'s four.[591] Pundits and fans regularly argue the individual merits of both players.[160][592] On 11 July, Messi provided his 20th assist of the league season for Arturo Vidal in a 1–0 away win over Real Valladolid, equalling Xavi\\'s record of 20 assists in a single La Liga season from 2008 to 2009;[281][282] with 22 goals, he also became only the second player ever, after Thierry Henry in the 2002–03 FA Premier League season with Arsenal (24 goals and 20 assists), to record at least 20 goals and 20 assists in a single league season in one of Europe\\'s top-five leagues.[282][283] Following his brace in a 5–0 away win against Alavés in the final match of the season on 20 May, Messi finished the season as both the top scorer and top assist provider in La Liga, with 25 goals and 21 assists respectively, which saw him win his record seventh Pichichi trophy, overtaking Zarra; however, Barcelona missed out on the league title to Real Madrid.[284] On 7 March, two weeks after scoring four goals in a league fixture against Valencia, he scored five times in a Champions League last 16-round match against Bayer Leverkusen, an unprecedented achievement in the history of the competition.[126][127] In addition to being the joint top assist provider with five assists, this feat made him top scorer with 14 goals, tying José Altafini\\'s record from the 1962–63 season, as well as becoming only the second player after Gerd Müller to be top scorer in four campaigns.[128][129] Two weeks later, on 20 March, Messi became the top goalscorer in Barcelona\\'s history at 24 years old, overtaking the 57-year record of César Rodríguez\\'s 232 goals with a hat-trick against Granada.[130]\\nDespite Messi\\'s individual form, Barcelona\\'s four-year cycle of success under Guardiola – one of the greatest eras in the club\\'s history – drew to an end.[131] He still managed to break two longstanding records in a span of seven days: a hat-trick on 16 March against Osasuna saw him overtake Paulino Alcántara\\'s 369 goals to become Barcelona\\'s top goalscorer in all competitions including friendlies, while another hat-trick against Real Madrid on 23 March made him the all-time top scorer in El Clásico, ahead of the 18 goals scored by former Real Madrid player Alfredo Di Stéfano.[160][162] Messi finished the campaign with his worst output in five seasons, though he still managed to score 41 goals in all competitions.[161][163] For the first time in five years, Barcelona ended the season without a major trophy; they were defeated in the Copa del Rey final by Real Madrid and lost the league in the last game to Atlético Madrid, causing Messi to be booed by sections of fans at the Camp Nou.[164]', 'score': 0.5582553, 'raw_content': None}, {'title': 'Lionel Messi Biography - Facts, Childhood, Family Life & Achievements', 'url': 'https://www.thefamouspeople.com/profiles/lionel-messi-5242.php', 'content': \"Lionel Messi has won multiple FIFA Ballon d'Or awards, numerous La Liga titles with FC Barcelona, and holds the record for most goals scored in a calendar year. In the finals too Messi scored the winning goal to give Barcelona their third title in six years and fourth overall. In the 2018 Football World Cup Messi scored a goal in the Argentina's final group match against Nigeria and helped his team to a 2-1 victory. Messi has in his kitty 20 Player of the Year awards including FIFA World Player of the Year (1), World Soccer Player of the Year (3), Goal.com Player of the Year (2), UEFA Best Player in Europe Award (1), UEFA Club Footballer of the Year (1), FIFA U-20 World Cup Player of the Tournament (1), La Liga Player of the Year (3), La Liga Foreign Player of the Year (3) and La Liga Ibero-American Player of the Year (5).\", 'score': 0.5401241, 'raw_content': None}, {'title': 'Lionel Messi: The life and times of the Barcelona, Paris Saint-Germain ...', 'url': 'https://www.nytimes.com/athletic/4783674/2023/08/18/lionel-messi-profile-soccer/', 'content': 'For Messi, it is major trophy number 44.. Despite turning 36 in June, he is as influential as ever. Here is the complete story of Lionel Andres Messi, widely regarded as one of the greatest', 'score': 0.49685127, 'raw_content': None}], 'response_time': 1.7}\n"
          ]
        }
      ]
    },
    {
      "cell_type": "markdown",
      "source": [
        "# Data Preparation"
      ],
      "metadata": {
        "id": "UK2EaVQ-12AR"
      }
    },
    {
      "cell_type": "code",
      "source": [
        "\n",
        "blog_url= \"https://www.ibm.com/think/insights/artificial-intelligence-trends\"\n",
        "\n",
        "doc_loader= WebBaseLoader(blog_url)\n",
        "docs = doc_loader.load()\n",
        "docs[0].page_content = docs[0].page_content.replace(\"\\n\", \"\").replace(\"   \", \"\") # removing some extra spaces\n",
        "print(len(docs[0].page_content))\n",
        "print(docs[0].page_content[0:100])\n"
      ],
      "metadata": {
        "colab": {
          "base_uri": "https://localhost:8080/"
        },
        "id": "L1D67gtVxXbS",
        "outputId": "4b3df6a4-9d19-43a1-b08e-fa6d7e8f7bad"
      },
      "execution_count": 35,
      "outputs": [
        {
          "output_type": "stream",
          "name": "stdout",
          "text": [
            "24609\n",
            "The Top Artificial Intelligence Trends | IBMThe most important AI trends in 2024TagsArtificial Intel\n"
          ]
        }
      ]
    },
    {
      "cell_type": "code",
      "source": [
        "# Split\n",
        "text_splitter = RecursiveCharacterTextSplitter.from_tiktoken_encoder(\n",
        "    chunk_size=500, chunk_overlap=100\n",
        ")\n",
        "all_splits = text_splitter.split_documents(docs)\n",
        "print(len(all_splits))"
      ],
      "metadata": {
        "colab": {
          "base_uri": "https://localhost:8080/"
        },
        "id": "tem5--_u2L6i",
        "outputId": "cdc8ad39-7499-429c-db8d-58a6c630f6df"
      },
      "execution_count": 49,
      "outputs": [
        {
          "output_type": "stream",
          "name": "stdout",
          "text": [
            "13\n"
          ]
        }
      ]
    },
    {
      "cell_type": "code",
      "source": [
        "# Embed and index\n",
        "embedding = SentenceTransformerEmbeddings(model_name=\"BAAI/bge-base-en-v1.5\")\n",
        "\n",
        "# Index\n",
        "vectorstore = Chroma.from_documents(\n",
        "    documents=all_splits,\n",
        "    collection_name=\"rag-chroma\",\n",
        "    embedding=embedding,\n",
        ")\n"
      ],
      "metadata": {
        "id": "Lw7bNrCj2MUk"
      },
      "execution_count": 55,
      "outputs": []
    },
    {
      "cell_type": "code",
      "source": [
        "retriever = vectorstore.as_retriever()"
      ],
      "metadata": {
        "id": "4BmssoYSFDen"
      },
      "execution_count": 116,
      "outputs": []
    },
    {
      "cell_type": "markdown",
      "source": [
        "# Define LLM"
      ],
      "metadata": {
        "id": "dnWDvumJG2bF"
      }
    },
    {
      "cell_type": "code",
      "source": [
        "# TOGETHER_API_KEY = os.environ.get(\"TOGETHER_API_KEY\")\n",
        "# llm = ChatOpenAI(base_url=\"https://api.together.xyz/v1\",\n",
        "#                  api_key=TOGETHER_API_KEY,\n",
        "#                  model = \"NousResearch/Nous-Hermes-2-Mixtral-8x7B-DPO\")"
      ],
      "metadata": {
        "id": "VhsletsJG3_Q"
      },
      "execution_count": 148,
      "outputs": []
    },
    {
      "cell_type": "code",
      "source": [
        "# from langchain_core.prompts import ChatPromptTemplate\n",
        "# from langchain_groq import ChatGroq"
      ],
      "metadata": {
        "id": "ojGEWNX6G6yL"
      },
      "execution_count": 154,
      "outputs": []
    },
    {
      "cell_type": "code",
      "source": [
        "# chat = ChatGroq(temperature=0, model_name=\"llama-3.3-70b-versatile\")\n",
        "# system = \"You are a helpful assistant.\"\n",
        "# human = \"{text}\"\n",
        "# prompt = ChatPromptTemplate.from_messages([(\"system\", system), (\"human\", human)])\n",
        "\n",
        "# chain = prompt | chat\n",
        "# chain.invoke({\"text\": \"Explain the importance of low latency LLMs.\"})"
      ],
      "metadata": {
        "id": "NwqKJWXBHLnF"
      },
      "execution_count": 153,
      "outputs": []
    },
    {
      "cell_type": "code",
      "source": [
        "llm= ChatGroq(temperature=0, model_name=\"llama-3.3-70b-versatile\")"
      ],
      "metadata": {
        "id": "e49AX0tvJi0t"
      },
      "execution_count": 184,
      "outputs": []
    },
    {
      "cell_type": "code",
      "source": [
        "# lm = ChatOpenAI(base_url=\"https://api.together.xyz/v1\",\n",
        "#                  api_key=userdata.get('TOGETHER_API_KEY'),\n",
        "#                  model = \"NousResearch/Nous-Hermes-2-Mixtral-8x7B-DPO\")"
      ],
      "metadata": {
        "id": "X3bg879jHetb"
      },
      "execution_count": 157,
      "outputs": []
    },
    {
      "cell_type": "code",
      "source": [
        "llm"
      ],
      "metadata": {
        "colab": {
          "base_uri": "https://localhost:8080/"
        },
        "id": "l0Di1_7oH76k",
        "outputId": "51ed6034-c95c-4e53-b695-c623c7fc5479"
      },
      "execution_count": 158,
      "outputs": [
        {
          "output_type": "execute_result",
          "data": {
            "text/plain": [
              "Together(together_api_key=SecretStr('**********'), model='meta-llama/Llama-3-70b-chat-hf', max_tokens=200)"
            ]
          },
          "metadata": {},
          "execution_count": 158
        }
      ]
    },
    {
      "cell_type": "markdown",
      "source": [
        "# Define Nodes & Create Graph"
      ],
      "metadata": {
        "id": "h3UwhzdK7jm6"
      }
    },
    {
      "cell_type": "code",
      "source": [
        "from langchain_core.messages import BaseMessage"
      ],
      "metadata": {
        "id": "TgjrhVbg7_yY"
      },
      "execution_count": 186,
      "outputs": []
    },
    {
      "cell_type": "code",
      "source": [
        "#create Graph state (storage dict)\n",
        "class GraphState(TypedDict):\n",
        "  \"\"\"Represent the state of graph,\n",
        "      keys: A dictionary where each key is a string.\n",
        "  \"\"\"\n",
        "  keys: dict[str, any]\n",
        ""
      ],
      "metadata": {
        "id": "hOd55pIL7yYh"
      },
      "execution_count": 185,
      "outputs": []
    },
    {
      "cell_type": "code",
      "source": [
        "# Retriever\n",
        "\n",
        "def retrieve(state):\n",
        "  \"\"\"This node will retrieve document from vector DB based on given Question\n",
        "  Arguments:\n",
        "  state:dict: The current graph state\n",
        "  returns:\n",
        "  state:dict: updated graph state with retrieved documents\"\"\"\n",
        "  print(\"Retriving the documents:\")\n",
        "  state_dict= state['keys']\n",
        "  question = state_dict['question']\n",
        "  documents= retriever.get_relevant_documents(question)\n",
        "  print(documents)\n",
        "  return {\"keys\": {\"documents\": documents, \"question\": question}}\n",
        "\n"
      ],
      "metadata": {
        "id": "atd964wp8u18"
      },
      "execution_count": 187,
      "outputs": []
    },
    {
      "cell_type": "code",
      "source": [
        "def grade_documents(state):\n",
        "    \"\"\"\n",
        "    Determines whether the retrieved documents are relevant to the question.\n",
        "\n",
        "    Args:\n",
        "        state (dict): The current graph state\n",
        "\n",
        "    Returns:\n",
        "        state (dict): Updates documents key with relevant documents\n",
        "    \"\"\"\n",
        "\n",
        "    print(\"---CHECK RELEVANCE---\")\n",
        "    state_dict = state[\"keys\"]\n",
        "    question = state_dict[\"question\"]\n",
        "    documents = state_dict[\"documents\"]\n",
        "\n",
        "    prompt = PromptTemplate(\n",
        "        template=\"\"\"You are a grader assessing the relevance of a retrieved\n",
        "        document to a user question. \\n\n",
        "        Here is the retrieved document: \\n\\n {context} \\n\\n\n",
        "        Here is the user question: {question} \\n\n",
        "        If the document contains keywords related to the user question,\n",
        "        grade it as relevant. \\n\n",
        "        It does not need to be a stringent test. The goal is to filter out\n",
        "        erroneous retrievals. \\n\n",
        "        Give a binary score of 'yes' or 'no' score to indicate whether the document\n",
        "        is relevant to the question. \\n\n",
        "        Provide the binary score as a JSON with a single key 'score' and no preamble\n",
        "        or explanation.\n",
        "        \"\"\",\n",
        "        input_variables=[\"question\", \"context\"],\n",
        "    )\n",
        "\n",
        "    chain = prompt | llm | JsonOutputParser()\n",
        "\n",
        "    # Score\n",
        "    filtered_docs = []\n",
        "    search = \"No\"  # Default does not opt for web search to supplement retrieval\n",
        "    for d in documents:\n",
        "        score = chain.invoke(\n",
        "            {\n",
        "                \"question\": question,\n",
        "                \"context\": d.page_content,\n",
        "            }\n",
        "        )\n",
        "        print(score)\n",
        "        grade = score[\"score\"]\n",
        "        if grade == \"yes\":\n",
        "            print(\"---GRADE: DOCUMENT RELEVANT---\")\n",
        "            filtered_docs.append(d)\n",
        "        else:\n",
        "            print(\"---GRADE: DOCUMENT NOT RELEVANT---\")\n",
        "            search = \"Yes\"  # Perform web search\n",
        "            continue\n",
        "\n",
        "    return {\n",
        "        \"keys\": {\n",
        "            \"documents\": filtered_docs,\n",
        "            \"question\": question,\n",
        "            \"run_web_search\": search,\n",
        "        }\n",
        "    }\n",
        "    # print(\"filtered docs : \", filtered_docs)"
      ],
      "metadata": {
        "id": "MKnUzmBuI1JS"
      },
      "execution_count": 201,
      "outputs": []
    },
    {
      "cell_type": "code",
      "source": [
        "def transform_query(state):\n",
        "    \"\"\"\n",
        "    Transform the query to produce a better question.\n",
        "\n",
        "    Args:\n",
        "        state (dict): The current graph state\n",
        "\n",
        "    Returns:\n",
        "        state (dict): Updates question key with a re-phrased question\n",
        "    \"\"\"\n",
        "\n",
        "    print(\"---TRANSFORM QUERY---\")\n",
        "    state_dict = state[\"keys\"]\n",
        "    question = state_dict[\"question\"]\n",
        "    documents = state_dict[\"documents\"]\n",
        "\n",
        "    # Create a prompt template with format instructions and the query\n",
        "    prompt = PromptTemplate(\n",
        "        template=\"\"\"You are generating questions that is well optimized for retrieval. \\n\n",
        "        Look at the input and try to reason about the underlying sematic intent / meaning. \\n\n",
        "        Here is the initial question:\n",
        "        \\n ------- \\n\n",
        "        {question}\n",
        "        \\n ------- \\n\n",
        "        Provide an improved question without any premable, only respond with the\n",
        "        updated question: \"\"\",\n",
        "        input_variables=[\"question\"],\n",
        "    )\n",
        "    # Prompt\n",
        "    chain = prompt | llm | StrOutputParser()\n",
        "\n",
        "    better_question = chain.invoke({\"question\": question})\n",
        "\n",
        "    return {\n",
        "        \"keys\": {\"documents\": documents, \"question\": better_question,}\n",
        "    }"
      ],
      "metadata": {
        "id": "kovrcOmfAa4j"
      },
      "execution_count": 189,
      "outputs": []
    },
    {
      "cell_type": "code",
      "source": [
        "def web_search(state):\n",
        "    \"\"\"\n",
        "    Web search based on the re-phrased question using Tavily API.\n",
        "\n",
        "    Args:\n",
        "        state (dict): The current graph state\n",
        "\n",
        "    Returns:\n",
        "        state (dict): Web results appended to documents.\n",
        "    \"\"\"\n",
        "\n",
        "    print(\"---WEB SEARCH---\")\n",
        "    state_dict = state[\"keys\"]\n",
        "    question = state_dict[\"question\"]\n",
        "    documents = state_dict[\"documents\"]\n",
        "\n",
        "    tool = TavilySearchResults()\n",
        "    docs = tool.invoke({\"query\": question})\n",
        "    web_results = \"\\n\".join([d[\"content\"] for d in docs])\n",
        "    web_results = Document(page_content=web_results)\n",
        "    print(web_results)\n",
        "    documents.append(web_results)\n",
        "\n",
        "    return {\"keys\": {\"documents\": documents, \"question\": question}}"
      ],
      "metadata": {
        "id": "JFGxDzmjBI4T"
      },
      "execution_count": 190,
      "outputs": []
    },
    {
      "cell_type": "code",
      "source": [
        "def generate(state):\n",
        "    \"\"\"\n",
        "    Generate answer\n",
        "\n",
        "    Args:\n",
        "        state (dict): The current graph state\n",
        "\n",
        "    Returns:\n",
        "        state (dict): New key added to state, generation, that contains generation\n",
        "    \"\"\"\n",
        "    print(\"---GENERATE---\")\n",
        "    state_dict = state[\"keys\"]\n",
        "    question = state_dict[\"question\"]\n",
        "    documents = state_dict[\"documents\"]\n",
        "\n",
        "    # Prompt\n",
        "    prompt = hub.pull(\"rlm/rag-prompt\")\n",
        "\n",
        "    # Post-processing\n",
        "    def format_docs(docs):\n",
        "        return \"\\n\\n\".join(doc.page_content for doc in docs)\n",
        "\n",
        "    # Chain\n",
        "    rag_chain = prompt | llm | StrOutputParser()\n",
        "\n",
        "    # Run\n",
        "    generation = rag_chain.invoke({\"context\": documents, \"question\": question})\n",
        "    return {\n",
        "        \"keys\": {\"documents\": documents, \"question\": question, \"generation\": generation}\n",
        "    }"
      ],
      "metadata": {
        "id": "ymhf0w7eBMB7"
      },
      "execution_count": 191,
      "outputs": []
    },
    {
      "cell_type": "markdown",
      "source": [
        "# Define the Graph Edges"
      ],
      "metadata": {
        "id": "ZlmgczQZCJuf"
      }
    },
    {
      "cell_type": "code",
      "source": [
        "def decide_to_generate(state):\n",
        "    \"\"\"\n",
        "    Determines whether to generate an answer or re-generate a question for web search.\n",
        "\n",
        "    Args:\n",
        "        state (dict): The current state of the agent, including all keys.\n",
        "\n",
        "    Returns:\n",
        "        str: Next node to call\n",
        "    \"\"\"\n",
        "\n",
        "    print(\"---DECIDE TO GENERATE---\")\n",
        "    state_dict = state[\"keys\"]\n",
        "    question = state_dict[\"question\"]\n",
        "    filtered_documents = state_dict[\"documents\"]\n",
        "    search = state_dict[\"run_web_search\"]\n",
        "\n",
        "    if search == \"Yes\":\n",
        "        # All documents have been filtered check_relevance\n",
        "        # We will re-generate a new query\n",
        "        print(\"---DECISION: TRANSFORM QUERY and RUN WEB SEARCH---\")\n",
        "        return \"transform_query\"\n",
        "    else:\n",
        "        # We have relevant documents, so generate answer\n",
        "        print(\"---DECISION: GENERATE---\")\n",
        "        return \"generate\""
      ],
      "metadata": {
        "id": "On4GTB1PBrAR"
      },
      "execution_count": 197,
      "outputs": []
    },
    {
      "cell_type": "markdown",
      "source": [
        "# creating the langgraph structure"
      ],
      "metadata": {
        "id": "lBTMl6cwBPiz"
      }
    },
    {
      "cell_type": "code",
      "source": [
        "import pprint\n",
        "from langgraph.graph import END, StateGraph, START, END"
      ],
      "metadata": {
        "id": "JTX-6oYdBOMq"
      },
      "execution_count": 198,
      "outputs": []
    },
    {
      "cell_type": "code",
      "source": [
        "graph = StateGraph(GraphState)\n",
        "graph.add_node(\"retrieve\", retrieve)\n",
        "graph.add_node(\"grader\", grade_documents)\n",
        "graph.add_node(\"transform_query\", transform_query)\n",
        "graph.add_node(\"web_search\", web_search)\n",
        "graph.add_node(\"generate\", generate)\n",
        "\n",
        "## adding edges (connecting nodes with each other)\n",
        "graph.set_entry_point(\"retrieve\")\n",
        "graph.add_edge(\"retrieve\", \"grader\")\n",
        "graph.add_conditional_edges(\n",
        "    \"grader\",\n",
        "    decide_to_generate,\n",
        "    {\n",
        "        \"transform_query\": \"transform_query\",\n",
        "        \"generate\": \"generate\",\n",
        "    },\n",
        ")\n",
        "\n",
        "graph.add_edge(\"transform_query\", \"web_search\")\n",
        "graph.add_edge(\"web_search\", \"generate\")\n",
        "graph.add_edge(\"generate\", END)\n",
        "graph = graph.compile()\n"
      ],
      "metadata": {
        "id": "Nq2i2392BUHj"
      },
      "execution_count": 202,
      "outputs": []
    },
    {
      "cell_type": "markdown",
      "source": [
        "# Visualize the graph structure"
      ],
      "metadata": {
        "id": "DIl-6IxvChJK"
      }
    },
    {
      "cell_type": "code",
      "source": [
        "from PIL import Image, ImageEnhance\n",
        "from IPython.display import display\n",
        "import io\n",
        "\n",
        "# Assume `draw_mermaid_png()` returns raw PNG data as bytes\n",
        "image_data = graph.get_graph().draw_mermaid_png()\n",
        "\n",
        "# Convert the raw PNG data into a BytesIO object\n",
        "image = Image.open(io.BytesIO(image_data))\n",
        "\n",
        "# Enhance the contrast of the image\n",
        "enhancer = ImageEnhance.Contrast(image)\n",
        "enhanced_image = enhancer.enhance(2)  # Adjust the factor for desired contrast\n",
        "\n",
        "# Display the enhanced image\n",
        "display(enhanced_image)\n"
      ],
      "metadata": {
        "colab": {
          "base_uri": "https://localhost:8080/",
          "height": 647
        },
        "id": "JTS4SEYfCyHD",
        "outputId": "490de8bc-0356-49e2-ffa2-ae312fc8235f"
      },
      "execution_count": 194,
      "outputs": [
        {
          "output_type": "display_data",
          "data": {
            "text/plain": [
              "<PIL.Image.Image image mode=RGB size=200x630>"
            ],
            "image/png": "[encoded data removed]",
            "image/jpeg": "[encoded data removed]"
          },
          "metadata": {}
        }
      ]
    },
    {
      "cell_type": "markdown",
      "source": [
        "# Trigger/Run the workflow"
      ],
      "metadata": {
        "id": "1leFDRkzEUTq"
      }
    },
    {
      "cell_type": "code",
      "source": [
        "inputs = {\n",
        "    \"keys\": {\n",
        "        \"question\": \"How do multimodal models differ from traditional models that focus on a specific domain?\",\n",
        "    }\n",
        "}\n",
        "for output in graph.stream(inputs):\n",
        "    for key, value in output.items():\n",
        "        # Node\n",
        "        pprint.pprint(f\"Node '{key}':\")\n",
        "\n",
        "    pprint.pprint(\"\\n---\\n\")\n",
        "\n",
        "# Final generation\n",
        "pprint.pprint(value[\"keys\"][\"generation\"])"
      ],
      "metadata": {
        "colab": {
          "base_uri": "https://localhost:8080/"
        },
        "id": "exFOCiG3EYVy",
        "outputId": "3afff35f-912f-4af7-e4a2-f3426079103a"
      },
      "execution_count": 204,
      "outputs": [
        {
          "output_type": "stream",
          "name": "stdout",
          "text": [
            "Retriving the documents:\n",
            "[Document(metadata={'description': 'Adapting to emerging trends is essential to maximizing potential, minimizing risk and responsibly scaling generative AI adoption.', 'language': 'en', 'source': 'https://www.ibm.com/think/insights/artificial-intelligence-trends', 'title': 'The Top Artificial Intelligence Trends | IBM'}, page_content='implemented as integrated elements of enterprise environments that enhance and complement, rather than revolutionize or replace, existing tools: for example, “Copilot” features in Microsoft Office, “Generative Fill” features in Adobe Photoshop or virtual agents in productivity and collaboration apps.Where generative AI first builds momentum in everyday workflows will have more influence on the future of AI tools than the hypothetical upside of any specific AI capabilities. According to a recent IBM survey of over 1,000 employees at enterprise-scale companies, the top three factors driving AI adoption were advances in AI tools that make them more accessible, the need to reduce costs and automate key processes and the increasing amount of AI embedded into standard off-the-shelf business applications.\\r  Multimodal AI (and video)\\r That being said, the ambition of state-of-the-art generative AI is growing. The next wave of advancements will focus not only on enhancing performance within a specific domain, but on multimodal models that can take multiple types of data as input. While models that operate across different data modalities are not a strictly new phenomenon—text-to-image models like CLIP and speech-to-text models like Wave2Vec have been around for years now—they’ve typically only operated in one direction, and were trained to accomplish a specific task.The incoming generation of interdisciplinary models, comprising proprietary models like OpenAI’s GPT-4V or Google’s Gemini, as well as open source models like LLaVa, Adept or Qwen-VL, can move freely between natural language processing (NLP) and computer vision tasks. New models are also bringing video into the fold: in late January, Google announced Lumiere, a text-to-video diffusion model that can also perform image-to-video tasks or use images for style reference.The most immediate benefit of multimodal AI is more intuitive, versatile AI applications and virtual assistants. Users can, for example, ask about an image and receive a natural language answer, or ask out loud for instructions to repair something and receive visual aids alongside step-by-step text instructions.On a higher level, multimodal AI allows for a model to process more diverse data inputs, enriching and expanding the information available for training and inference. Video, in particular, offers great potential for holistic learning. “There are cameras that are on'), Document(metadata={'description': 'Adapting to emerging trends is essential to maximizing potential, minimizing risk and responsibly scaling generative AI adoption.', 'language': 'en', 'source': 'https://www.ibm.com/think/insights/artificial-intelligence-trends', 'title': 'The Top Artificial Intelligence Trends | IBM'}, page_content='intuitive, versatile AI applications and virtual assistants. Users can, for example, ask about an image and receive a natural language answer, or ask out loud for instructions to repair something and receive visual aids alongside step-by-step text instructions.On a higher level, multimodal AI allows for a model to process more diverse data inputs, enriching and expanding the information available for training and inference. Video, in particular, offers great potential for holistic learning. “There are cameras that are on 24/7 and they’re capturing what happens just as it happens without any filtering, without any intentionality,” says Peter Norvig, Distinguished Education Fellow at the Stanford Institute for Human-Centered Artificial Intelligence (HAI).[3] “AI models haven’t had that kind of data before. Those models will just have a better understanding of everything.”\\r  Small(er) language models and open source advancements\\r In domain-specific models—particularly LLMs—we’ve likely reached the point of diminishing returns from larger parameter counts. Sam Altman, CEO of OpenAI (whose GPT-4 model is rumored to have around 1.76 trillion parameters), suggested as much at MIT’s Imagination in Action event last April: “I think we’re at the end of the era where it’s going to be these giant models, and we’ll make them better in other ways,” he predicted. “I think there’s been way too much focus on parameter count.”Massive models jumpstarted this ongoing AI golden age, but they’re not without drawbacks. Only the very largest companies have the funds and server space to train and maintain energy-hungry models with hundreds of billions of parameters. According to one estimate from the University of Washington, training a single GPT-3-sized model requires the yearly electricity consumption of over 1,000 households; a standard day of ChatGPT queries rivals the daily energy consumption of 33,000 U.S. households.[4]Smaller models, meanwhile, are far less resource-intensive. An influential March 2022 paper\\xa0(link resides outside ibm.com) from Deepmind demonstrated that training smaller models on more data yields better performance than training larger models on fewer data. Much of the ongoing innovation in LLMs has thus focused on yielding greater output from fewer parameters. As demonstrated by'), Document(metadata={'description': 'Adapting to emerging trends is essential to maximizing potential, minimizing risk and responsibly scaling generative AI adoption.', 'language': 'en', 'source': 'https://www.ibm.com/think/insights/artificial-intelligence-trends', 'title': 'The Top Artificial Intelligence Trends | IBM'}, page_content='out of reach.\\r  Customized local models and data pipelines\\r Enterprises in 2024 can thus pursue differentiation through bespoke model development, rather than building wrappers around repackaged services from “Big AI.” With the right data and development framework, existing open source AI models and tools can be tailored to almost any real-world scenario, from customer support uses to supply chain management to complex document analysis.Open source models afford organizations the opportunity to develop powerful custom AI models—trained on their proprietary data and fine-tuned for their specific needs—quickly, without prohibitively expensive infrastructure investments. This is especially relevant in domains like legal, healthcare or finance, where highly specialized vocabulary and concepts may not have been learned by foundation models in pre-training.Legal, finance and healthcare are also prime examples of industries that can benefit from models small enough to be run locally on modest hardware. Keeping AI training, inference and retrieval augmented generation (RAG) local avoids the risk of proprietary data or sensitive personal information being used to train closed-source models or otherwise pass through the hands of third parties. And using RAG to access relevant information rather than storing all knowledge directly within the LLM itself helps reduce model size, further increasing speed and reducing costs.As 2024 continues to level the model playing field, competitive advantage will increasingly be driven by proprietary data pipelines that enable industry-best fine-tuning.\\r  More powerful virtual agents\\r With more sophisticated, efficient tools and a year’s worth of market feedback at their disposal, businesses are primed to expand the use cases for virtual agents beyond just straightforward customer experience chatbots.As AI systems speed up and incorporate new streams and formats of information, they expand the possibilities for not just communication and instruction following, but also task automation. “2023 was the year of being able to chat with an AI. Multiple companies launched something, but the interaction was always you type something in and it types something back,” says Stanford’s Norvig. “In 2024, we’ll see the ability for agents to get stuff done for you. Make reservations, plan a trip, connect to other services.”Multimodal AI, in particular, significantly increases opportunities for seamless interaction with virtual agents. For example, rather than simply asking a bot for recipes, a user can point a camera at an open fridge and request recipes that can be made with available ingredients. Be My Eyes, a'), Document(metadata={'description': 'Adapting to emerging trends is essential to maximizing potential, minimizing risk and responsibly scaling generative AI adoption.', 'language': 'en', 'source': 'https://www.ibm.com/think/insights/artificial-intelligence-trends', 'title': 'The Top Artificial Intelligence Trends | IBM'}, page_content='Stanford’s Norvig. “In 2024, we’ll see the ability for agents to get stuff done for you. Make reservations, plan a trip, connect to other services.”Multimodal AI, in particular, significantly increases opportunities for seamless interaction with virtual agents. For example, rather than simply asking a bot for recipes, a user can point a camera at an open fridge and request recipes that can be made with available ingredients. Be My Eyes, a mobile app that connects blind and low vision individuals with volunteers to help with quick tasks, is piloting AI tools that help users directly interact with their surroundings through multimodal AI in lieu of awaiting a human volunteer.Explore IBM watsonx™ Assistant: market-leading conversational AI with seamless integration for the tools that power your business →\\r  Regulation, copyright and ethical AI concerns\\r Elevated multimodal capabilities and lowered barriers to entry also open up new doors for abuse: deepfakes, privacy issues, perpetuation of bias and even evasion of CAPTCHA safeguards may become increasingly easy for bad actors. In January of 2024, a wave of explicit celebrity deepfakes hit social media; research from May 2023 indicated that there had been 8 times as many voice deepfakes posted online compared to the same period in 2022.[6]Ambiguity in the regulatory environment may slow adoption, or at least more aggressive implementation, in the short to medium term. There is inherent risk to any major, irreversible investment in an emerging technology or practice that might require significant retooling—or even become illegal—following new legislation or changing political headwinds in the coming years.In December 2023, the European Union (EU) reached provisional agreement on the Artificial Intelligence Act\\xa0(link resides outside ibm.com). Among other measures, it prohibits indiscriminate scraping of images to create facial recognition databases, biometric categorization systems with potential for discriminatory bias, “social scoring” systems and the use of AI for social or economic manipulation. It also seeks to define a category of “high-risk” AI systems, with potential to threaten safety, fundamental rights or rule of law, that will be subject to additional oversight. Likewise, it sets transparency requirements for what it calls “general-purpose AI (GPAI)” systems—foundation models—including technical documentation and systemic adversarial testing.But while some key players, like')]\n",
            "\"Node 'retrieve':\"\n",
            "'\\n---\\n'\n",
            "---CHECK RELEVANCE---\n",
            "{'score': 'yes'}\n",
            "---GRADE: DOCUMENT RELEVANT---\n",
            "{'score': 'yes'}\n",
            "---GRADE: DOCUMENT RELEVANT---\n",
            "{'score': 'yes'}\n",
            "---GRADE: DOCUMENT RELEVANT---\n",
            "{'score': 'yes'}\n",
            "---GRADE: DOCUMENT RELEVANT---\n",
            "---DECIDE TO GENERATE---\n",
            "---DECISION: GENERATE---\n",
            "\"Node 'grader':\"\n",
            "'\\n---\\n'\n",
            "---GENERATE---\n"
          ]
        },
        {
          "output_type": "stream",
          "name": "stderr",
          "text": [
            "/usr/local/lib/python3.10/dist-packages/langsmith/client.py:261: LangSmithMissingAPIKeyWarning: API key must be provided when using hosted LangSmith API\n",
            "  warnings.warn(\n"
          ]
        },
        {
          "output_type": "stream",
          "name": "stdout",
          "text": [
            "\"Node 'generate':\"\n",
            "'\\n---\\n'\n",
            "('Multimodal models differ from traditional models in that they can take '\n",
            " 'multiple types of data as input, such as text, images, and video, and '\n",
            " 'process them together. This allows for more intuitive and versatile AI '\n",
            " 'applications and virtual assistants. Unlike traditional models that focus on '\n",
            " 'a specific domain, multimodal models can move freely between different data '\n",
            " 'modalities, such as natural language processing and computer vision tasks.')\n"
          ]
        }
      ]
    },
    {
      "cell_type": "code",
      "source": [
        "inputs = {\n",
        "    \"keys\": {\n",
        "        \"question\": \"How do text-to-image and speech-to-text models relate to the concept of multimodal AI, and what is their typical function?\",\n",
        "    }\n",
        "}\n",
        "for output in graph.stream(inputs):\n",
        "    for key, value in output.items():\n",
        "        # Node\n",
        "        pprint.pprint(f\"Node '{key}':\")\n",
        "\n",
        "    pprint.pprint(\"\\n---\\n\")\n",
        "\n",
        "# Final generation\n",
        "pprint.pprint(value[\"keys\"][\"generation\"])"
      ],
      "metadata": {
        "colab": {
          "base_uri": "https://localhost:8080/"
        },
        "id": "fvbzGF9FGS2i",
        "outputId": "bf507041-06df-46fc-ee87-70a548bff8cd"
      },
      "execution_count": 206,
      "outputs": [
        {
          "output_type": "stream",
          "name": "stdout",
          "text": [
            "Retriving the documents:\n",
            "[Document(metadata={'description': 'Adapting to emerging trends is essential to maximizing potential, minimizing risk and responsibly scaling generative AI adoption.', 'language': 'en', 'source': 'https://www.ibm.com/think/insights/artificial-intelligence-trends', 'title': 'The Top Artificial Intelligence Trends | IBM'}, page_content='implemented as integrated elements of enterprise environments that enhance and complement, rather than revolutionize or replace, existing tools: for example, “Copilot” features in Microsoft Office, “Generative Fill” features in Adobe Photoshop or virtual agents in productivity and collaboration apps.Where generative AI first builds momentum in everyday workflows will have more influence on the future of AI tools than the hypothetical upside of any specific AI capabilities. According to a recent IBM survey of over 1,000 employees at enterprise-scale companies, the top three factors driving AI adoption were advances in AI tools that make them more accessible, the need to reduce costs and automate key processes and the increasing amount of AI embedded into standard off-the-shelf business applications.\\r  Multimodal AI (and video)\\r That being said, the ambition of state-of-the-art generative AI is growing. The next wave of advancements will focus not only on enhancing performance within a specific domain, but on multimodal models that can take multiple types of data as input. While models that operate across different data modalities are not a strictly new phenomenon—text-to-image models like CLIP and speech-to-text models like Wave2Vec have been around for years now—they’ve typically only operated in one direction, and were trained to accomplish a specific task.The incoming generation of interdisciplinary models, comprising proprietary models like OpenAI’s GPT-4V or Google’s Gemini, as well as open source models like LLaVa, Adept or Qwen-VL, can move freely between natural language processing (NLP) and computer vision tasks. New models are also bringing video into the fold: in late January, Google announced Lumiere, a text-to-video diffusion model that can also perform image-to-video tasks or use images for style reference.The most immediate benefit of multimodal AI is more intuitive, versatile AI applications and virtual assistants. Users can, for example, ask about an image and receive a natural language answer, or ask out loud for instructions to repair something and receive visual aids alongside step-by-step text instructions.On a higher level, multimodal AI allows for a model to process more diverse data inputs, enriching and expanding the information available for training and inference. Video, in particular, offers great potential for holistic learning. “There are cameras that are on'), Document(metadata={'description': 'Adapting to emerging trends is essential to maximizing potential, minimizing risk and responsibly scaling generative AI adoption.', 'language': 'en', 'source': 'https://www.ibm.com/think/insights/artificial-intelligence-trends', 'title': 'The Top Artificial Intelligence Trends | IBM'}, page_content='intuitive, versatile AI applications and virtual assistants. Users can, for example, ask about an image and receive a natural language answer, or ask out loud for instructions to repair something and receive visual aids alongside step-by-step text instructions.On a higher level, multimodal AI allows for a model to process more diverse data inputs, enriching and expanding the information available for training and inference. Video, in particular, offers great potential for holistic learning. “There are cameras that are on 24/7 and they’re capturing what happens just as it happens without any filtering, without any intentionality,” says Peter Norvig, Distinguished Education Fellow at the Stanford Institute for Human-Centered Artificial Intelligence (HAI).[3] “AI models haven’t had that kind of data before. Those models will just have a better understanding of everything.”\\r  Small(er) language models and open source advancements\\r In domain-specific models—particularly LLMs—we’ve likely reached the point of diminishing returns from larger parameter counts. Sam Altman, CEO of OpenAI (whose GPT-4 model is rumored to have around 1.76 trillion parameters), suggested as much at MIT’s Imagination in Action event last April: “I think we’re at the end of the era where it’s going to be these giant models, and we’ll make them better in other ways,” he predicted. “I think there’s been way too much focus on parameter count.”Massive models jumpstarted this ongoing AI golden age, but they’re not without drawbacks. Only the very largest companies have the funds and server space to train and maintain energy-hungry models with hundreds of billions of parameters. According to one estimate from the University of Washington, training a single GPT-3-sized model requires the yearly electricity consumption of over 1,000 households; a standard day of ChatGPT queries rivals the daily energy consumption of 33,000 U.S. households.[4]Smaller models, meanwhile, are far less resource-intensive. An influential March 2022 paper\\xa0(link resides outside ibm.com) from Deepmind demonstrated that training smaller models on more data yields better performance than training larger models on fewer data. Much of the ongoing innovation in LLMs has thus focused on yielding greater output from fewer parameters. As demonstrated by'), Document(metadata={'description': 'Adapting to emerging trends is essential to maximizing potential, minimizing risk and responsibly scaling generative AI adoption.', 'language': 'en', 'source': 'https://www.ibm.com/think/insights/artificial-intelligence-trends', 'title': 'The Top Artificial Intelligence Trends | IBM'}, page_content='Stanford’s Norvig. “In 2024, we’ll see the ability for agents to get stuff done for you. Make reservations, plan a trip, connect to other services.”Multimodal AI, in particular, significantly increases opportunities for seamless interaction with virtual agents. For example, rather than simply asking a bot for recipes, a user can point a camera at an open fridge and request recipes that can be made with available ingredients. Be My Eyes, a mobile app that connects blind and low vision individuals with volunteers to help with quick tasks, is piloting AI tools that help users directly interact with their surroundings through multimodal AI in lieu of awaiting a human volunteer.Explore IBM watsonx™ Assistant: market-leading conversational AI with seamless integration for the tools that power your business →\\r  Regulation, copyright and ethical AI concerns\\r Elevated multimodal capabilities and lowered barriers to entry also open up new doors for abuse: deepfakes, privacy issues, perpetuation of bias and even evasion of CAPTCHA safeguards may become increasingly easy for bad actors. In January of 2024, a wave of explicit celebrity deepfakes hit social media; research from May 2023 indicated that there had been 8 times as many voice deepfakes posted online compared to the same period in 2022.[6]Ambiguity in the regulatory environment may slow adoption, or at least more aggressive implementation, in the short to medium term. There is inherent risk to any major, irreversible investment in an emerging technology or practice that might require significant retooling—or even become illegal—following new legislation or changing political headwinds in the coming years.In December 2023, the European Union (EU) reached provisional agreement on the Artificial Intelligence Act\\xa0(link resides outside ibm.com). Among other measures, it prohibits indiscriminate scraping of images to create facial recognition databases, biometric categorization systems with potential for discriminatory bias, “social scoring” systems and the use of AI for social or economic manipulation. It also seeks to define a category of “high-risk” AI systems, with potential to threaten safety, fundamental rights or rule of law, that will be subject to additional oversight. Likewise, it sets transparency requirements for what it calls “general-purpose AI (GPAI)” systems—foundation models—including technical documentation and systemic adversarial testing.But while some key players, like'), Document(metadata={'description': 'Adapting to emerging trends is essential to maximizing potential, minimizing risk and responsibly scaling generative AI adoption.', 'language': 'en', 'source': 'https://www.ibm.com/think/insights/artificial-intelligence-trends', 'title': 'The Top Artificial Intelligence Trends | IBM'}, page_content='out of reach.\\r  Customized local models and data pipelines\\r Enterprises in 2024 can thus pursue differentiation through bespoke model development, rather than building wrappers around repackaged services from “Big AI.” With the right data and development framework, existing open source AI models and tools can be tailored to almost any real-world scenario, from customer support uses to supply chain management to complex document analysis.Open source models afford organizations the opportunity to develop powerful custom AI models—trained on their proprietary data and fine-tuned for their specific needs—quickly, without prohibitively expensive infrastructure investments. This is especially relevant in domains like legal, healthcare or finance, where highly specialized vocabulary and concepts may not have been learned by foundation models in pre-training.Legal, finance and healthcare are also prime examples of industries that can benefit from models small enough to be run locally on modest hardware. Keeping AI training, inference and retrieval augmented generation (RAG) local avoids the risk of proprietary data or sensitive personal information being used to train closed-source models or otherwise pass through the hands of third parties. And using RAG to access relevant information rather than storing all knowledge directly within the LLM itself helps reduce model size, further increasing speed and reducing costs.As 2024 continues to level the model playing field, competitive advantage will increasingly be driven by proprietary data pipelines that enable industry-best fine-tuning.\\r  More powerful virtual agents\\r With more sophisticated, efficient tools and a year’s worth of market feedback at their disposal, businesses are primed to expand the use cases for virtual agents beyond just straightforward customer experience chatbots.As AI systems speed up and incorporate new streams and formats of information, they expand the possibilities for not just communication and instruction following, but also task automation. “2023 was the year of being able to chat with an AI. Multiple companies launched something, but the interaction was always you type something in and it types something back,” says Stanford’s Norvig. “In 2024, we’ll see the ability for agents to get stuff done for you. Make reservations, plan a trip, connect to other services.”Multimodal AI, in particular, significantly increases opportunities for seamless interaction with virtual agents. For example, rather than simply asking a bot for recipes, a user can point a camera at an open fridge and request recipes that can be made with available ingredients. Be My Eyes, a')]\n",
            "\"Node 'retrieve':\"\n",
            "'\\n---\\n'\n",
            "---CHECK RELEVANCE---\n",
            "{'score': 'yes'}\n",
            "---GRADE: DOCUMENT RELEVANT---\n",
            "{'score': 'yes'}\n",
            "---GRADE: DOCUMENT RELEVANT---\n",
            "{'score': 'yes'}\n",
            "---GRADE: DOCUMENT RELEVANT---\n",
            "{'score': 'no'}\n",
            "---GRADE: DOCUMENT NOT RELEVANT---\n",
            "---DECIDE TO GENERATE---\n",
            "---DECISION: TRANSFORM QUERY and RUN WEB SEARCH---\n",
            "\"Node 'grader':\"\n",
            "'\\n---\\n'\n",
            "---TRANSFORM QUERY---\n",
            "\"Node 'transform_query':\"\n",
            "'\\n---\\n'\n",
            "---WEB SEARCH---\n",
            "page_content='Applications of Multimodal AI 1. Image Captioning Multimodal AI models like OpenAI's CLIP and Google's ALIGN can generate textual descriptions from images. These models process image and text data, making it possible to generate human-like captions. 2. Text-to-Image Generation Models like DALL·E can generate images from textual descriptions.\n",
            "This is why multimodal AI is so important—it unlocks the potential of leveraging high-compute AI to work across multiple modalities and provide contextual, relevant outputs based on multiple data types. The main difference is that multimodal AI processes and understands multiple types of data inputs. With NLP, multimodal AI interacts with data and humans in a natural way and use these interactions in conjunction with diverse data types like images, video, sensor data, and much much more. Text analysis works with NLP to understand, process, and generate documents for use in Multimodal AI systems.\n",
            "Applications of Multimodal Models - AI Models AI Models ========= Explore practical applications of multimodal models in image captioning, video understanding, and speech-to-text with visual context. This is the power of multimodal models, which combine insights from various modalities like text, images, audio, and video to paint a richer picture of the world. Accessibility tools: Multimodal models can help visually impaired individuals navigate and understand the visual world around them, empowering them with greater independence. “Seeing” through AI: Multimodal models are revolutionizing the way we interact with images, unlocking possibilities for accessibility, information retrieval, and artistic exploration. “Hearing” through eyes: Multimodal speech-to-text models offer the potential for enhanced communication, accessibility, and personalized education, transforming how we interact with spoken language. Overview of Multimodal AI Models AI Models ========= \n",
            "For example, we will have two encoders for a text-to-image model, one for processing text and the other for images. The next step is to map the individual encodings onto a unified latent space using a fusion network. These networks are the backbone of multimodal processing and are often based on the transformer architectures.\n",
            "Lots of data in different modalities (text, video, images, audio, etc.etc.) isis available today. As a result, there is a growing demand for more systems that can make sense of the data. This has given rise to multimodal AI, which aims to create systems capable of understanding and interacting with the world in a more nuanced and human-like way.'\n",
            "\"Node 'web_search':\"\n",
            "'\\n---\\n'\n",
            "---GENERATE---\n"
          ]
        },
        {
          "output_type": "stream",
          "name": "stderr",
          "text": [
            "/usr/local/lib/python3.10/dist-packages/langsmith/client.py:261: LangSmithMissingAPIKeyWarning: API key must be provided when using hosted LangSmith API\n",
            "  warnings.warn(\n"
          ]
        },
        {
          "output_type": "stream",
          "name": "stdout",
          "text": [
            "\"Node 'generate':\"\n",
            "'\\n---\\n'\n",
            "('Text-to-image and speech-to-text models play a crucial role in multimodal '\n",
            " 'AI, enabling the processing and generation of different forms of data. These '\n",
            " 'models can operate in multiple directions, taking various types of data as '\n",
            " 'input, such as text, images, and audio, and generating outputs like images, '\n",
            " 'text, or speech. They function by using encoders to process individual '\n",
            " 'modalities, which are then mapped onto a unified latent space using fusion '\n",
            " 'networks, allowing for more intuitive and versatile AI applications.')\n"
          ]
        }
      ]
    }
  ]
}